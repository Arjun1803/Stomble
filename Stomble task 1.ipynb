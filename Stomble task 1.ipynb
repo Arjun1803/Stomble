{
 "cells": [
  {
   "cell_type": "markdown",
   "metadata": {},
   "source": [
    "# Stomble Assessment Task"
   ]
  },
  {
   "cell_type": "markdown",
   "metadata": {},
   "source": [
    "### The required packages are loaded"
   ]
  },
  {
   "cell_type": "code",
   "execution_count": 177,
   "metadata": {},
   "outputs": [],
   "source": [
    "import warnings\n",
    "import itertools\n",
    "warnings.filterwarnings(\"ignore\")\n",
    "import numpy as np\n",
    "import pandas as pd\n",
    "from sklearn import preprocessing\n",
    "import seaborn as sns\n",
    "import matplotlib.pyplot as plt\n",
    "from statsmodels.tsa.stattools import adfuller\n",
    "from pandas.plotting import autocorrelation_plot\n",
    "from statsmodels.tsa.stattools import acf, pacf\n",
    "import statsmodels.api as sm\n",
    "from statsmodels.graphics.tsaplots import plot_acf\n",
    "from statsmodels.graphics.tsaplots import plot_pacf\n",
    "from statsmodels.tsa.stattools import adfuller\n",
    "from statsmodels.tsa.seasonal import seasonal_decompose\n",
    "from statsmodels.tsa.ar_model import AR\n",
    "from statsmodels.tsa.arima_model import ARMA, ARIMA\n",
    "from statsmodels.tsa.statespace.sarimax import SARIMAX\n",
    "\n"
   ]
  },
  {
   "cell_type": "markdown",
   "metadata": {},
   "source": [
    "### The dataset is imported using the pd.read_csv() function\n"
   ]
  },
  {
   "cell_type": "code",
   "execution_count": 3,
   "metadata": {},
   "outputs": [],
   "source": [
    "df = pd.read_csv('time_series_covid19_confirmed_global.csv', sep=',')"
   ]
  },
  {
   "cell_type": "markdown",
   "metadata": {},
   "source": [
    "### The head of the dataset is visualised"
   ]
  },
  {
   "cell_type": "code",
   "execution_count": 4,
   "metadata": {
    "scrolled": true
   },
   "outputs": [
    {
     "data": {
      "text/html": [
       "<div>\n",
       "<style scoped>\n",
       "    .dataframe tbody tr th:only-of-type {\n",
       "        vertical-align: middle;\n",
       "    }\n",
       "\n",
       "    .dataframe tbody tr th {\n",
       "        vertical-align: top;\n",
       "    }\n",
       "\n",
       "    .dataframe thead th {\n",
       "        text-align: right;\n",
       "    }\n",
       "</style>\n",
       "<table border=\"1\" class=\"dataframe\">\n",
       "  <thead>\n",
       "    <tr style=\"text-align: right;\">\n",
       "      <th></th>\n",
       "      <th>Province/State</th>\n",
       "      <th>Country/Region</th>\n",
       "      <th>Lat</th>\n",
       "      <th>Long</th>\n",
       "      <th>1/22/20</th>\n",
       "      <th>1/23/20</th>\n",
       "      <th>1/24/20</th>\n",
       "      <th>1/25/20</th>\n",
       "      <th>1/26/20</th>\n",
       "      <th>1/27/20</th>\n",
       "      <th>...</th>\n",
       "      <th>2/7/21</th>\n",
       "      <th>2/8/21</th>\n",
       "      <th>2/9/21</th>\n",
       "      <th>2/10/21</th>\n",
       "      <th>2/11/21</th>\n",
       "      <th>2/12/21</th>\n",
       "      <th>2/13/21</th>\n",
       "      <th>2/14/21</th>\n",
       "      <th>2/15/21</th>\n",
       "      <th>2/16/21</th>\n",
       "    </tr>\n",
       "  </thead>\n",
       "  <tbody>\n",
       "    <tr>\n",
       "      <th>0</th>\n",
       "      <td>NaN</td>\n",
       "      <td>Afghanistan</td>\n",
       "      <td>33.93911</td>\n",
       "      <td>67.709953</td>\n",
       "      <td>0</td>\n",
       "      <td>0</td>\n",
       "      <td>0</td>\n",
       "      <td>0</td>\n",
       "      <td>0</td>\n",
       "      <td>0</td>\n",
       "      <td>...</td>\n",
       "      <td>55335</td>\n",
       "      <td>55359</td>\n",
       "      <td>55384</td>\n",
       "      <td>55402</td>\n",
       "      <td>55420</td>\n",
       "      <td>55445</td>\n",
       "      <td>55473</td>\n",
       "      <td>55492</td>\n",
       "      <td>55514</td>\n",
       "      <td>55518</td>\n",
       "    </tr>\n",
       "    <tr>\n",
       "      <th>1</th>\n",
       "      <td>NaN</td>\n",
       "      <td>Albania</td>\n",
       "      <td>41.15330</td>\n",
       "      <td>20.168300</td>\n",
       "      <td>0</td>\n",
       "      <td>0</td>\n",
       "      <td>0</td>\n",
       "      <td>0</td>\n",
       "      <td>0</td>\n",
       "      <td>0</td>\n",
       "      <td>...</td>\n",
       "      <td>85336</td>\n",
       "      <td>86289</td>\n",
       "      <td>87528</td>\n",
       "      <td>88671</td>\n",
       "      <td>89776</td>\n",
       "      <td>90835</td>\n",
       "      <td>91987</td>\n",
       "      <td>93075</td>\n",
       "      <td>93850</td>\n",
       "      <td>94651</td>\n",
       "    </tr>\n",
       "    <tr>\n",
       "      <th>2</th>\n",
       "      <td>NaN</td>\n",
       "      <td>Algeria</td>\n",
       "      <td>28.03390</td>\n",
       "      <td>1.659600</td>\n",
       "      <td>0</td>\n",
       "      <td>0</td>\n",
       "      <td>0</td>\n",
       "      <td>0</td>\n",
       "      <td>0</td>\n",
       "      <td>0</td>\n",
       "      <td>...</td>\n",
       "      <td>109088</td>\n",
       "      <td>109313</td>\n",
       "      <td>109559</td>\n",
       "      <td>109782</td>\n",
       "      <td>110049</td>\n",
       "      <td>110303</td>\n",
       "      <td>110513</td>\n",
       "      <td>110711</td>\n",
       "      <td>110894</td>\n",
       "      <td>111069</td>\n",
       "    </tr>\n",
       "    <tr>\n",
       "      <th>3</th>\n",
       "      <td>NaN</td>\n",
       "      <td>Andorra</td>\n",
       "      <td>42.50630</td>\n",
       "      <td>1.521800</td>\n",
       "      <td>0</td>\n",
       "      <td>0</td>\n",
       "      <td>0</td>\n",
       "      <td>0</td>\n",
       "      <td>0</td>\n",
       "      <td>0</td>\n",
       "      <td>...</td>\n",
       "      <td>10251</td>\n",
       "      <td>10275</td>\n",
       "      <td>10312</td>\n",
       "      <td>10352</td>\n",
       "      <td>10391</td>\n",
       "      <td>10427</td>\n",
       "      <td>10463</td>\n",
       "      <td>10503</td>\n",
       "      <td>10538</td>\n",
       "      <td>10555</td>\n",
       "    </tr>\n",
       "    <tr>\n",
       "      <th>4</th>\n",
       "      <td>NaN</td>\n",
       "      <td>Angola</td>\n",
       "      <td>-11.20270</td>\n",
       "      <td>17.873900</td>\n",
       "      <td>0</td>\n",
       "      <td>0</td>\n",
       "      <td>0</td>\n",
       "      <td>0</td>\n",
       "      <td>0</td>\n",
       "      <td>0</td>\n",
       "      <td>...</td>\n",
       "      <td>20086</td>\n",
       "      <td>20112</td>\n",
       "      <td>20163</td>\n",
       "      <td>20210</td>\n",
       "      <td>20261</td>\n",
       "      <td>20294</td>\n",
       "      <td>20329</td>\n",
       "      <td>20366</td>\n",
       "      <td>20381</td>\n",
       "      <td>20389</td>\n",
       "    </tr>\n",
       "  </tbody>\n",
       "</table>\n",
       "<p>5 rows × 396 columns</p>\n",
       "</div>"
      ],
      "text/plain": [
       "  Province/State Country/Region       Lat       Long  1/22/20  1/23/20  \\\n",
       "0            NaN    Afghanistan  33.93911  67.709953        0        0   \n",
       "1            NaN        Albania  41.15330  20.168300        0        0   \n",
       "2            NaN        Algeria  28.03390   1.659600        0        0   \n",
       "3            NaN        Andorra  42.50630   1.521800        0        0   \n",
       "4            NaN         Angola -11.20270  17.873900        0        0   \n",
       "\n",
       "   1/24/20  1/25/20  1/26/20  1/27/20  ...  2/7/21  2/8/21  2/9/21  2/10/21  \\\n",
       "0        0        0        0        0  ...   55335   55359   55384    55402   \n",
       "1        0        0        0        0  ...   85336   86289   87528    88671   \n",
       "2        0        0        0        0  ...  109088  109313  109559   109782   \n",
       "3        0        0        0        0  ...   10251   10275   10312    10352   \n",
       "4        0        0        0        0  ...   20086   20112   20163    20210   \n",
       "\n",
       "   2/11/21  2/12/21  2/13/21  2/14/21  2/15/21  2/16/21  \n",
       "0    55420    55445    55473    55492    55514    55518  \n",
       "1    89776    90835    91987    93075    93850    94651  \n",
       "2   110049   110303   110513   110711   110894   111069  \n",
       "3    10391    10427    10463    10503    10538    10555  \n",
       "4    20261    20294    20329    20366    20381    20389  \n",
       "\n",
       "[5 rows x 396 columns]"
      ]
     },
     "execution_count": 4,
     "metadata": {},
     "output_type": "execute_result"
    }
   ],
   "source": [
    "df.head()"
   ]
  },
  {
   "cell_type": "markdown",
   "metadata": {},
   "source": [
    "### The unique country names are visualised."
   ]
  },
  {
   "cell_type": "code",
   "execution_count": 34,
   "metadata": {},
   "outputs": [
    {
     "data": {
      "text/plain": [
       "array(['Afghanistan', 'Albania', 'Algeria', 'Andorra', 'Angola',\n",
       "       'Antigua and Barbuda', 'Argentina', 'Armenia', 'Australia',\n",
       "       'Austria', 'Azerbaijan', 'Bahamas', 'Bahrain', 'Bangladesh',\n",
       "       'Barbados', 'Belarus', 'Belgium', 'Belize', 'Benin', 'Bhutan',\n",
       "       'Bolivia', 'Bosnia and Herzegovina', 'Botswana', 'Brazil',\n",
       "       'Brunei', 'Bulgaria', 'Burkina Faso', 'Burma', 'Burundi',\n",
       "       'Cabo Verde', 'Cambodia', 'Cameroon', 'Canada',\n",
       "       'Central African Republic', 'Chad', 'Chile', 'China', 'Colombia',\n",
       "       'Comoros', 'Congo (Brazzaville)', 'Congo (Kinshasa)', 'Costa Rica',\n",
       "       \"Cote d'Ivoire\", 'Croatia', 'Cuba', 'Cyprus', 'Czechia', 'Denmark',\n",
       "       'Diamond Princess', 'Djibouti', 'Dominica', 'Dominican Republic',\n",
       "       'Ecuador', 'Egypt', 'El Salvador', 'Equatorial Guinea', 'Eritrea',\n",
       "       'Estonia', 'Eswatini', 'Ethiopia', 'Fiji', 'Finland', 'France',\n",
       "       'Gabon', 'Gambia', 'Georgia', 'Germany', 'Ghana', 'Greece',\n",
       "       'Grenada', 'Guatemala', 'Guinea', 'Guinea-Bissau', 'Guyana',\n",
       "       'Haiti', 'Holy See', 'Honduras', 'Hungary', 'Iceland', 'India',\n",
       "       'Indonesia', 'Iran', 'Iraq', 'Ireland', 'Israel', 'Italy',\n",
       "       'Jamaica', 'Japan', 'Jordan', 'Kazakhstan', 'Kenya',\n",
       "       'Korea, South', 'Kosovo', 'Kuwait', 'Kyrgyzstan', 'Laos', 'Latvia',\n",
       "       'Lebanon', 'Lesotho', 'Liberia', 'Libya', 'Liechtenstein',\n",
       "       'Lithuania', 'Luxembourg', 'MS Zaandam', 'Madagascar', 'Malawi',\n",
       "       'Malaysia', 'Maldives', 'Mali', 'Malta', 'Marshall Islands',\n",
       "       'Mauritania', 'Mauritius', 'Mexico', 'Micronesia', 'Moldova',\n",
       "       'Monaco', 'Mongolia', 'Montenegro', 'Morocco', 'Mozambique',\n",
       "       'Namibia', 'Nepal', 'Netherlands', 'New Zealand', 'Nicaragua',\n",
       "       'Niger', 'Nigeria', 'North Macedonia', 'Norway', 'Oman',\n",
       "       'Pakistan', 'Panama', 'Papua New Guinea', 'Paraguay', 'Peru',\n",
       "       'Philippines', 'Poland', 'Portugal', 'Qatar', 'Romania', 'Russia',\n",
       "       'Rwanda', 'Saint Kitts and Nevis', 'Saint Lucia',\n",
       "       'Saint Vincent and the Grenadines', 'Samoa', 'San Marino',\n",
       "       'Sao Tome and Principe', 'Saudi Arabia', 'Senegal', 'Serbia',\n",
       "       'Seychelles', 'Sierra Leone', 'Singapore', 'Slovakia', 'Slovenia',\n",
       "       'Solomon Islands', 'Somalia', 'South Africa', 'South Sudan',\n",
       "       'Spain', 'Sri Lanka', 'Sudan', 'Suriname', 'Sweden', 'Switzerland',\n",
       "       'Syria', 'Taiwan*', 'Tajikistan', 'Tanzania', 'Thailand',\n",
       "       'Timor-Leste', 'Togo', 'Trinidad and Tobago', 'Tunisia', 'Turkey',\n",
       "       'US', 'Uganda', 'Ukraine', 'United Arab Emirates',\n",
       "       'United Kingdom', 'Uruguay', 'Uzbekistan', 'Vanuatu', 'Venezuela',\n",
       "       'Vietnam', 'West Bank and Gaza', 'Yemen', 'Zambia', 'Zimbabwe'],\n",
       "      dtype=object)"
      ]
     },
     "execution_count": 34,
     "metadata": {},
     "output_type": "execute_result"
    }
   ],
   "source": [
    "df[\"Country/Region\"].unique()"
   ]
  },
  {
   "cell_type": "markdown",
   "metadata": {},
   "source": [
    "### The data is described using describe() function.  "
   ]
  },
  {
   "cell_type": "code",
   "execution_count": 5,
   "metadata": {
    "scrolled": true
   },
   "outputs": [
    {
     "data": {
      "text/html": [
       "<div>\n",
       "<style scoped>\n",
       "    .dataframe tbody tr th:only-of-type {\n",
       "        vertical-align: middle;\n",
       "    }\n",
       "\n",
       "    .dataframe tbody tr th {\n",
       "        vertical-align: top;\n",
       "    }\n",
       "\n",
       "    .dataframe thead th {\n",
       "        text-align: right;\n",
       "    }\n",
       "</style>\n",
       "<table border=\"1\" class=\"dataframe\">\n",
       "  <thead>\n",
       "    <tr style=\"text-align: right;\">\n",
       "      <th></th>\n",
       "      <th>Province/State</th>\n",
       "      <th>Country/Region</th>\n",
       "      <th>Lat</th>\n",
       "      <th>Long</th>\n",
       "      <th>1/22/20</th>\n",
       "      <th>1/23/20</th>\n",
       "      <th>1/24/20</th>\n",
       "      <th>1/25/20</th>\n",
       "      <th>1/26/20</th>\n",
       "      <th>1/27/20</th>\n",
       "      <th>...</th>\n",
       "      <th>2/7/21</th>\n",
       "      <th>2/8/21</th>\n",
       "      <th>2/9/21</th>\n",
       "      <th>2/10/21</th>\n",
       "      <th>2/11/21</th>\n",
       "      <th>2/12/21</th>\n",
       "      <th>2/13/21</th>\n",
       "      <th>2/14/21</th>\n",
       "      <th>2/15/21</th>\n",
       "      <th>2/16/21</th>\n",
       "    </tr>\n",
       "  </thead>\n",
       "  <tbody>\n",
       "    <tr>\n",
       "      <th>count</th>\n",
       "      <td>84</td>\n",
       "      <td>273</td>\n",
       "      <td>272.000000</td>\n",
       "      <td>272.000000</td>\n",
       "      <td>273.000000</td>\n",
       "      <td>273.000000</td>\n",
       "      <td>273.000000</td>\n",
       "      <td>273.000000</td>\n",
       "      <td>273.000000</td>\n",
       "      <td>273.000000</td>\n",
       "      <td>...</td>\n",
       "      <td>2.730000e+02</td>\n",
       "      <td>2.730000e+02</td>\n",
       "      <td>2.730000e+02</td>\n",
       "      <td>2.730000e+02</td>\n",
       "      <td>2.730000e+02</td>\n",
       "      <td>2.730000e+02</td>\n",
       "      <td>2.730000e+02</td>\n",
       "      <td>2.730000e+02</td>\n",
       "      <td>2.730000e+02</td>\n",
       "      <td>2.730000e+02</td>\n",
       "    </tr>\n",
       "    <tr>\n",
       "      <th>unique</th>\n",
       "      <td>84</td>\n",
       "      <td>192</td>\n",
       "      <td>NaN</td>\n",
       "      <td>NaN</td>\n",
       "      <td>NaN</td>\n",
       "      <td>NaN</td>\n",
       "      <td>NaN</td>\n",
       "      <td>NaN</td>\n",
       "      <td>NaN</td>\n",
       "      <td>NaN</td>\n",
       "      <td>...</td>\n",
       "      <td>NaN</td>\n",
       "      <td>NaN</td>\n",
       "      <td>NaN</td>\n",
       "      <td>NaN</td>\n",
       "      <td>NaN</td>\n",
       "      <td>NaN</td>\n",
       "      <td>NaN</td>\n",
       "      <td>NaN</td>\n",
       "      <td>NaN</td>\n",
       "      <td>NaN</td>\n",
       "    </tr>\n",
       "    <tr>\n",
       "      <th>top</th>\n",
       "      <td>Prince Edward Island</td>\n",
       "      <td>China</td>\n",
       "      <td>NaN</td>\n",
       "      <td>NaN</td>\n",
       "      <td>NaN</td>\n",
       "      <td>NaN</td>\n",
       "      <td>NaN</td>\n",
       "      <td>NaN</td>\n",
       "      <td>NaN</td>\n",
       "      <td>NaN</td>\n",
       "      <td>...</td>\n",
       "      <td>NaN</td>\n",
       "      <td>NaN</td>\n",
       "      <td>NaN</td>\n",
       "      <td>NaN</td>\n",
       "      <td>NaN</td>\n",
       "      <td>NaN</td>\n",
       "      <td>NaN</td>\n",
       "      <td>NaN</td>\n",
       "      <td>NaN</td>\n",
       "      <td>NaN</td>\n",
       "    </tr>\n",
       "    <tr>\n",
       "      <th>freq</th>\n",
       "      <td>1</td>\n",
       "      <td>33</td>\n",
       "      <td>NaN</td>\n",
       "      <td>NaN</td>\n",
       "      <td>NaN</td>\n",
       "      <td>NaN</td>\n",
       "      <td>NaN</td>\n",
       "      <td>NaN</td>\n",
       "      <td>NaN</td>\n",
       "      <td>NaN</td>\n",
       "      <td>...</td>\n",
       "      <td>NaN</td>\n",
       "      <td>NaN</td>\n",
       "      <td>NaN</td>\n",
       "      <td>NaN</td>\n",
       "      <td>NaN</td>\n",
       "      <td>NaN</td>\n",
       "      <td>NaN</td>\n",
       "      <td>NaN</td>\n",
       "      <td>NaN</td>\n",
       "      <td>NaN</td>\n",
       "    </tr>\n",
       "    <tr>\n",
       "      <th>mean</th>\n",
       "      <td>NaN</td>\n",
       "      <td>NaN</td>\n",
       "      <td>20.639516</td>\n",
       "      <td>23.165585</td>\n",
       "      <td>2.040293</td>\n",
       "      <td>2.399267</td>\n",
       "      <td>3.446886</td>\n",
       "      <td>5.249084</td>\n",
       "      <td>7.758242</td>\n",
       "      <td>10.721612</td>\n",
       "      <td>...</td>\n",
       "      <td>3.888738e+05</td>\n",
       "      <td>3.900295e+05</td>\n",
       "      <td>3.915956e+05</td>\n",
       "      <td>3.931893e+05</td>\n",
       "      <td>3.948042e+05</td>\n",
       "      <td>3.963028e+05</td>\n",
       "      <td>3.975792e+05</td>\n",
       "      <td>3.985970e+05</td>\n",
       "      <td>3.998421e+05</td>\n",
       "      <td>4.011260e+05</td>\n",
       "    </tr>\n",
       "    <tr>\n",
       "      <th>std</th>\n",
       "      <td>NaN</td>\n",
       "      <td>NaN</td>\n",
       "      <td>25.181450</td>\n",
       "      <td>73.696719</td>\n",
       "      <td>26.928183</td>\n",
       "      <td>27.026232</td>\n",
       "      <td>33.646272</td>\n",
       "      <td>46.828263</td>\n",
       "      <td>65.442780</td>\n",
       "      <td>88.174227</td>\n",
       "      <td>...</td>\n",
       "      <td>1.916296e+06</td>\n",
       "      <td>1.921683e+06</td>\n",
       "      <td>1.928703e+06</td>\n",
       "      <td>1.935534e+06</td>\n",
       "      <td>1.942748e+06</td>\n",
       "      <td>1.949537e+06</td>\n",
       "      <td>1.955266e+06</td>\n",
       "      <td>1.959629e+06</td>\n",
       "      <td>1.963952e+06</td>\n",
       "      <td>1.968885e+06</td>\n",
       "    </tr>\n",
       "    <tr>\n",
       "      <th>min</th>\n",
       "      <td>NaN</td>\n",
       "      <td>NaN</td>\n",
       "      <td>-51.796300</td>\n",
       "      <td>-178.116500</td>\n",
       "      <td>0.000000</td>\n",
       "      <td>0.000000</td>\n",
       "      <td>0.000000</td>\n",
       "      <td>0.000000</td>\n",
       "      <td>0.000000</td>\n",
       "      <td>0.000000</td>\n",
       "      <td>...</td>\n",
       "      <td>0.000000e+00</td>\n",
       "      <td>0.000000e+00</td>\n",
       "      <td>0.000000e+00</td>\n",
       "      <td>0.000000e+00</td>\n",
       "      <td>0.000000e+00</td>\n",
       "      <td>0.000000e+00</td>\n",
       "      <td>0.000000e+00</td>\n",
       "      <td>0.000000e+00</td>\n",
       "      <td>0.000000e+00</td>\n",
       "      <td>0.000000e+00</td>\n",
       "    </tr>\n",
       "    <tr>\n",
       "      <th>25%</th>\n",
       "      <td>NaN</td>\n",
       "      <td>NaN</td>\n",
       "      <td>6.105887</td>\n",
       "      <td>-20.026050</td>\n",
       "      <td>0.000000</td>\n",
       "      <td>0.000000</td>\n",
       "      <td>0.000000</td>\n",
       "      <td>0.000000</td>\n",
       "      <td>0.000000</td>\n",
       "      <td>0.000000</td>\n",
       "      <td>...</td>\n",
       "      <td>9.270000e+02</td>\n",
       "      <td>9.280000e+02</td>\n",
       "      <td>9.330000e+02</td>\n",
       "      <td>9.350000e+02</td>\n",
       "      <td>9.350000e+02</td>\n",
       "      <td>9.350000e+02</td>\n",
       "      <td>9.350000e+02</td>\n",
       "      <td>9.350000e+02</td>\n",
       "      <td>9.350000e+02</td>\n",
       "      <td>9.370000e+02</td>\n",
       "    </tr>\n",
       "    <tr>\n",
       "      <th>50%</th>\n",
       "      <td>NaN</td>\n",
       "      <td>NaN</td>\n",
       "      <td>21.805100</td>\n",
       "      <td>20.972650</td>\n",
       "      <td>0.000000</td>\n",
       "      <td>0.000000</td>\n",
       "      <td>0.000000</td>\n",
       "      <td>0.000000</td>\n",
       "      <td>0.000000</td>\n",
       "      <td>0.000000</td>\n",
       "      <td>...</td>\n",
       "      <td>1.180600e+04</td>\n",
       "      <td>1.183600e+04</td>\n",
       "      <td>1.190800e+04</td>\n",
       "      <td>1.210700e+04</td>\n",
       "      <td>1.211400e+04</td>\n",
       "      <td>1.244000e+04</td>\n",
       "      <td>1.257700e+04</td>\n",
       "      <td>1.257700e+04</td>\n",
       "      <td>1.286500e+04</td>\n",
       "      <td>1.286500e+04</td>\n",
       "    </tr>\n",
       "    <tr>\n",
       "      <th>75%</th>\n",
       "      <td>NaN</td>\n",
       "      <td>NaN</td>\n",
       "      <td>41.123000</td>\n",
       "      <td>84.497525</td>\n",
       "      <td>0.000000</td>\n",
       "      <td>0.000000</td>\n",
       "      <td>0.000000</td>\n",
       "      <td>0.000000</td>\n",
       "      <td>0.000000</td>\n",
       "      <td>0.000000</td>\n",
       "      <td>...</td>\n",
       "      <td>1.626010e+05</td>\n",
       "      <td>1.632130e+05</td>\n",
       "      <td>1.639750e+05</td>\n",
       "      <td>1.647360e+05</td>\n",
       "      <td>1.655320e+05</td>\n",
       "      <td>1.662000e+05</td>\n",
       "      <td>1.668000e+05</td>\n",
       "      <td>1.672790e+05</td>\n",
       "      <td>1.673830e+05</td>\n",
       "      <td>1.681030e+05</td>\n",
       "    </tr>\n",
       "    <tr>\n",
       "      <th>max</th>\n",
       "      <td>NaN</td>\n",
       "      <td>NaN</td>\n",
       "      <td>71.706900</td>\n",
       "      <td>178.065000</td>\n",
       "      <td>444.000000</td>\n",
       "      <td>444.000000</td>\n",
       "      <td>549.000000</td>\n",
       "      <td>761.000000</td>\n",
       "      <td>1058.000000</td>\n",
       "      <td>1423.000000</td>\n",
       "      <td>...</td>\n",
       "      <td>2.700737e+07</td>\n",
       "      <td>2.709710e+07</td>\n",
       "      <td>2.719246e+07</td>\n",
       "      <td>2.728716e+07</td>\n",
       "      <td>2.739251e+07</td>\n",
       "      <td>2.749202e+07</td>\n",
       "      <td>2.757534e+07</td>\n",
       "      <td>2.764028e+07</td>\n",
       "      <td>2.769423e+07</td>\n",
       "      <td>2.775662e+07</td>\n",
       "    </tr>\n",
       "  </tbody>\n",
       "</table>\n",
       "<p>11 rows × 396 columns</p>\n",
       "</div>"
      ],
      "text/plain": [
       "              Province/State Country/Region         Lat        Long  \\\n",
       "count                     84            273  272.000000  272.000000   \n",
       "unique                    84            192         NaN         NaN   \n",
       "top     Prince Edward Island          China         NaN         NaN   \n",
       "freq                       1             33         NaN         NaN   \n",
       "mean                     NaN            NaN   20.639516   23.165585   \n",
       "std                      NaN            NaN   25.181450   73.696719   \n",
       "min                      NaN            NaN  -51.796300 -178.116500   \n",
       "25%                      NaN            NaN    6.105887  -20.026050   \n",
       "50%                      NaN            NaN   21.805100   20.972650   \n",
       "75%                      NaN            NaN   41.123000   84.497525   \n",
       "max                      NaN            NaN   71.706900  178.065000   \n",
       "\n",
       "           1/22/20     1/23/20     1/24/20     1/25/20      1/26/20  \\\n",
       "count   273.000000  273.000000  273.000000  273.000000   273.000000   \n",
       "unique         NaN         NaN         NaN         NaN          NaN   \n",
       "top            NaN         NaN         NaN         NaN          NaN   \n",
       "freq           NaN         NaN         NaN         NaN          NaN   \n",
       "mean      2.040293    2.399267    3.446886    5.249084     7.758242   \n",
       "std      26.928183   27.026232   33.646272   46.828263    65.442780   \n",
       "min       0.000000    0.000000    0.000000    0.000000     0.000000   \n",
       "25%       0.000000    0.000000    0.000000    0.000000     0.000000   \n",
       "50%       0.000000    0.000000    0.000000    0.000000     0.000000   \n",
       "75%       0.000000    0.000000    0.000000    0.000000     0.000000   \n",
       "max     444.000000  444.000000  549.000000  761.000000  1058.000000   \n",
       "\n",
       "            1/27/20  ...        2/7/21        2/8/21        2/9/21  \\\n",
       "count    273.000000  ...  2.730000e+02  2.730000e+02  2.730000e+02   \n",
       "unique          NaN  ...           NaN           NaN           NaN   \n",
       "top             NaN  ...           NaN           NaN           NaN   \n",
       "freq            NaN  ...           NaN           NaN           NaN   \n",
       "mean      10.721612  ...  3.888738e+05  3.900295e+05  3.915956e+05   \n",
       "std       88.174227  ...  1.916296e+06  1.921683e+06  1.928703e+06   \n",
       "min        0.000000  ...  0.000000e+00  0.000000e+00  0.000000e+00   \n",
       "25%        0.000000  ...  9.270000e+02  9.280000e+02  9.330000e+02   \n",
       "50%        0.000000  ...  1.180600e+04  1.183600e+04  1.190800e+04   \n",
       "75%        0.000000  ...  1.626010e+05  1.632130e+05  1.639750e+05   \n",
       "max     1423.000000  ...  2.700737e+07  2.709710e+07  2.719246e+07   \n",
       "\n",
       "             2/10/21       2/11/21       2/12/21       2/13/21       2/14/21  \\\n",
       "count   2.730000e+02  2.730000e+02  2.730000e+02  2.730000e+02  2.730000e+02   \n",
       "unique           NaN           NaN           NaN           NaN           NaN   \n",
       "top              NaN           NaN           NaN           NaN           NaN   \n",
       "freq             NaN           NaN           NaN           NaN           NaN   \n",
       "mean    3.931893e+05  3.948042e+05  3.963028e+05  3.975792e+05  3.985970e+05   \n",
       "std     1.935534e+06  1.942748e+06  1.949537e+06  1.955266e+06  1.959629e+06   \n",
       "min     0.000000e+00  0.000000e+00  0.000000e+00  0.000000e+00  0.000000e+00   \n",
       "25%     9.350000e+02  9.350000e+02  9.350000e+02  9.350000e+02  9.350000e+02   \n",
       "50%     1.210700e+04  1.211400e+04  1.244000e+04  1.257700e+04  1.257700e+04   \n",
       "75%     1.647360e+05  1.655320e+05  1.662000e+05  1.668000e+05  1.672790e+05   \n",
       "max     2.728716e+07  2.739251e+07  2.749202e+07  2.757534e+07  2.764028e+07   \n",
       "\n",
       "             2/15/21       2/16/21  \n",
       "count   2.730000e+02  2.730000e+02  \n",
       "unique           NaN           NaN  \n",
       "top              NaN           NaN  \n",
       "freq             NaN           NaN  \n",
       "mean    3.998421e+05  4.011260e+05  \n",
       "std     1.963952e+06  1.968885e+06  \n",
       "min     0.000000e+00  0.000000e+00  \n",
       "25%     9.350000e+02  9.370000e+02  \n",
       "50%     1.286500e+04  1.286500e+04  \n",
       "75%     1.673830e+05  1.681030e+05  \n",
       "max     2.769423e+07  2.775662e+07  \n",
       "\n",
       "[11 rows x 396 columns]"
      ]
     },
     "execution_count": 5,
     "metadata": {},
     "output_type": "execute_result"
    }
   ],
   "source": [
    "df.describe(include='all')"
   ]
  },
  {
   "cell_type": "markdown",
   "metadata": {},
   "source": [
    "### The data is subsetted to show the Australian data. "
   ]
  },
  {
   "cell_type": "code",
   "execution_count": 6,
   "metadata": {},
   "outputs": [],
   "source": [
    "df_aus = df[df[\"Country/Region\"]==\"Australia\"]"
   ]
  },
  {
   "cell_type": "code",
   "execution_count": 7,
   "metadata": {
    "scrolled": false
   },
   "outputs": [
    {
     "data": {
      "text/html": [
       "<div>\n",
       "<style scoped>\n",
       "    .dataframe tbody tr th:only-of-type {\n",
       "        vertical-align: middle;\n",
       "    }\n",
       "\n",
       "    .dataframe tbody tr th {\n",
       "        vertical-align: top;\n",
       "    }\n",
       "\n",
       "    .dataframe thead th {\n",
       "        text-align: right;\n",
       "    }\n",
       "</style>\n",
       "<table border=\"1\" class=\"dataframe\">\n",
       "  <thead>\n",
       "    <tr style=\"text-align: right;\">\n",
       "      <th></th>\n",
       "      <th>Province/State</th>\n",
       "      <th>Country/Region</th>\n",
       "      <th>Lat</th>\n",
       "      <th>Long</th>\n",
       "      <th>1/22/20</th>\n",
       "      <th>1/23/20</th>\n",
       "      <th>1/24/20</th>\n",
       "      <th>1/25/20</th>\n",
       "      <th>1/26/20</th>\n",
       "      <th>1/27/20</th>\n",
       "      <th>...</th>\n",
       "      <th>2/7/21</th>\n",
       "      <th>2/8/21</th>\n",
       "      <th>2/9/21</th>\n",
       "      <th>2/10/21</th>\n",
       "      <th>2/11/21</th>\n",
       "      <th>2/12/21</th>\n",
       "      <th>2/13/21</th>\n",
       "      <th>2/14/21</th>\n",
       "      <th>2/15/21</th>\n",
       "      <th>2/16/21</th>\n",
       "    </tr>\n",
       "  </thead>\n",
       "  <tbody>\n",
       "    <tr>\n",
       "      <th>8</th>\n",
       "      <td>Australian Capital Territory</td>\n",
       "      <td>Australia</td>\n",
       "      <td>-35.4735</td>\n",
       "      <td>149.0124</td>\n",
       "      <td>0</td>\n",
       "      <td>0</td>\n",
       "      <td>0</td>\n",
       "      <td>0</td>\n",
       "      <td>0</td>\n",
       "      <td>0</td>\n",
       "      <td>...</td>\n",
       "      <td>118</td>\n",
       "      <td>118</td>\n",
       "      <td>118</td>\n",
       "      <td>118</td>\n",
       "      <td>118</td>\n",
       "      <td>118</td>\n",
       "      <td>118</td>\n",
       "      <td>118</td>\n",
       "      <td>118</td>\n",
       "      <td>118</td>\n",
       "    </tr>\n",
       "    <tr>\n",
       "      <th>9</th>\n",
       "      <td>New South Wales</td>\n",
       "      <td>Australia</td>\n",
       "      <td>-33.8688</td>\n",
       "      <td>151.2093</td>\n",
       "      <td>0</td>\n",
       "      <td>0</td>\n",
       "      <td>0</td>\n",
       "      <td>0</td>\n",
       "      <td>3</td>\n",
       "      <td>4</td>\n",
       "      <td>...</td>\n",
       "      <td>5123</td>\n",
       "      <td>5125</td>\n",
       "      <td>5129</td>\n",
       "      <td>5132</td>\n",
       "      <td>5134</td>\n",
       "      <td>5136</td>\n",
       "      <td>5138</td>\n",
       "      <td>5138</td>\n",
       "      <td>5139</td>\n",
       "      <td>5143</td>\n",
       "    </tr>\n",
       "    <tr>\n",
       "      <th>10</th>\n",
       "      <td>Northern Territory</td>\n",
       "      <td>Australia</td>\n",
       "      <td>-12.4634</td>\n",
       "      <td>130.8456</td>\n",
       "      <td>0</td>\n",
       "      <td>0</td>\n",
       "      <td>0</td>\n",
       "      <td>0</td>\n",
       "      <td>0</td>\n",
       "      <td>0</td>\n",
       "      <td>...</td>\n",
       "      <td>102</td>\n",
       "      <td>102</td>\n",
       "      <td>102</td>\n",
       "      <td>102</td>\n",
       "      <td>102</td>\n",
       "      <td>102</td>\n",
       "      <td>103</td>\n",
       "      <td>103</td>\n",
       "      <td>103</td>\n",
       "      <td>103</td>\n",
       "    </tr>\n",
       "    <tr>\n",
       "      <th>11</th>\n",
       "      <td>Queensland</td>\n",
       "      <td>Australia</td>\n",
       "      <td>-27.4698</td>\n",
       "      <td>153.0251</td>\n",
       "      <td>0</td>\n",
       "      <td>0</td>\n",
       "      <td>0</td>\n",
       "      <td>0</td>\n",
       "      <td>0</td>\n",
       "      <td>0</td>\n",
       "      <td>...</td>\n",
       "      <td>1314</td>\n",
       "      <td>1315</td>\n",
       "      <td>1316</td>\n",
       "      <td>1317</td>\n",
       "      <td>1318</td>\n",
       "      <td>1320</td>\n",
       "      <td>1320</td>\n",
       "      <td>1320</td>\n",
       "      <td>1320</td>\n",
       "      <td>1320</td>\n",
       "    </tr>\n",
       "    <tr>\n",
       "      <th>12</th>\n",
       "      <td>South Australia</td>\n",
       "      <td>Australia</td>\n",
       "      <td>-34.9285</td>\n",
       "      <td>138.6007</td>\n",
       "      <td>0</td>\n",
       "      <td>0</td>\n",
       "      <td>0</td>\n",
       "      <td>0</td>\n",
       "      <td>0</td>\n",
       "      <td>0</td>\n",
       "      <td>...</td>\n",
       "      <td>603</td>\n",
       "      <td>603</td>\n",
       "      <td>605</td>\n",
       "      <td>606</td>\n",
       "      <td>606</td>\n",
       "      <td>606</td>\n",
       "      <td>606</td>\n",
       "      <td>606</td>\n",
       "      <td>606</td>\n",
       "      <td>608</td>\n",
       "    </tr>\n",
       "  </tbody>\n",
       "</table>\n",
       "<p>5 rows × 396 columns</p>\n",
       "</div>"
      ],
      "text/plain": [
       "                  Province/State Country/Region      Lat      Long  1/22/20  \\\n",
       "8   Australian Capital Territory      Australia -35.4735  149.0124        0   \n",
       "9                New South Wales      Australia -33.8688  151.2093        0   \n",
       "10            Northern Territory      Australia -12.4634  130.8456        0   \n",
       "11                    Queensland      Australia -27.4698  153.0251        0   \n",
       "12               South Australia      Australia -34.9285  138.6007        0   \n",
       "\n",
       "    1/23/20  1/24/20  1/25/20  1/26/20  1/27/20  ...  2/7/21  2/8/21  2/9/21  \\\n",
       "8         0        0        0        0        0  ...     118     118     118   \n",
       "9         0        0        0        3        4  ...    5123    5125    5129   \n",
       "10        0        0        0        0        0  ...     102     102     102   \n",
       "11        0        0        0        0        0  ...    1314    1315    1316   \n",
       "12        0        0        0        0        0  ...     603     603     605   \n",
       "\n",
       "    2/10/21  2/11/21  2/12/21  2/13/21  2/14/21  2/15/21  2/16/21  \n",
       "8       118      118      118      118      118      118      118  \n",
       "9      5132     5134     5136     5138     5138     5139     5143  \n",
       "10      102      102      102      103      103      103      103  \n",
       "11     1317     1318     1320     1320     1320     1320     1320  \n",
       "12      606      606      606      606      606      606      608  \n",
       "\n",
       "[5 rows x 396 columns]"
      ]
     },
     "execution_count": 7,
     "metadata": {},
     "output_type": "execute_result"
    }
   ],
   "source": [
    "df_aus.head()"
   ]
  },
  {
   "cell_type": "markdown",
   "metadata": {},
   "source": [
    "## Dropping Latitude and Longitude"
   ]
  },
  {
   "cell_type": "markdown",
   "metadata": {},
   "source": [
    "#### We will not be using Latitude and Longitude in our Time Series plot, hence they are dropped."
   ]
  },
  {
   "cell_type": "code",
   "execution_count": 11,
   "metadata": {},
   "outputs": [],
   "source": [
    "df_aus.drop(['Lat','Long'], axis=1, inplace=True)"
   ]
  },
  {
   "cell_type": "code",
   "execution_count": 33,
   "metadata": {
    "scrolled": true
   },
   "outputs": [
    {
     "data": {
      "text/html": [
       "<div>\n",
       "<style scoped>\n",
       "    .dataframe tbody tr th:only-of-type {\n",
       "        vertical-align: middle;\n",
       "    }\n",
       "\n",
       "    .dataframe tbody tr th {\n",
       "        vertical-align: top;\n",
       "    }\n",
       "\n",
       "    .dataframe thead th {\n",
       "        text-align: right;\n",
       "    }\n",
       "</style>\n",
       "<table border=\"1\" class=\"dataframe\">\n",
       "  <thead>\n",
       "    <tr style=\"text-align: right;\">\n",
       "      <th></th>\n",
       "      <th>Province/State</th>\n",
       "      <th>Country/Region</th>\n",
       "      <th>1/22/20</th>\n",
       "      <th>1/23/20</th>\n",
       "      <th>1/24/20</th>\n",
       "      <th>1/25/20</th>\n",
       "      <th>1/26/20</th>\n",
       "      <th>1/27/20</th>\n",
       "      <th>1/28/20</th>\n",
       "      <th>1/29/20</th>\n",
       "      <th>...</th>\n",
       "      <th>2/7/21</th>\n",
       "      <th>2/8/21</th>\n",
       "      <th>2/9/21</th>\n",
       "      <th>2/10/21</th>\n",
       "      <th>2/11/21</th>\n",
       "      <th>2/12/21</th>\n",
       "      <th>2/13/21</th>\n",
       "      <th>2/14/21</th>\n",
       "      <th>2/15/21</th>\n",
       "      <th>2/16/21</th>\n",
       "    </tr>\n",
       "  </thead>\n",
       "  <tbody>\n",
       "    <tr>\n",
       "      <th>8</th>\n",
       "      <td>Australian Capital Territory</td>\n",
       "      <td>Australia</td>\n",
       "      <td>0</td>\n",
       "      <td>0</td>\n",
       "      <td>0</td>\n",
       "      <td>0</td>\n",
       "      <td>0</td>\n",
       "      <td>0</td>\n",
       "      <td>0</td>\n",
       "      <td>0</td>\n",
       "      <td>...</td>\n",
       "      <td>118</td>\n",
       "      <td>118</td>\n",
       "      <td>118</td>\n",
       "      <td>118</td>\n",
       "      <td>118</td>\n",
       "      <td>118</td>\n",
       "      <td>118</td>\n",
       "      <td>118</td>\n",
       "      <td>118</td>\n",
       "      <td>118</td>\n",
       "    </tr>\n",
       "    <tr>\n",
       "      <th>9</th>\n",
       "      <td>New South Wales</td>\n",
       "      <td>Australia</td>\n",
       "      <td>0</td>\n",
       "      <td>0</td>\n",
       "      <td>0</td>\n",
       "      <td>0</td>\n",
       "      <td>3</td>\n",
       "      <td>4</td>\n",
       "      <td>4</td>\n",
       "      <td>4</td>\n",
       "      <td>...</td>\n",
       "      <td>5123</td>\n",
       "      <td>5125</td>\n",
       "      <td>5129</td>\n",
       "      <td>5132</td>\n",
       "      <td>5134</td>\n",
       "      <td>5136</td>\n",
       "      <td>5138</td>\n",
       "      <td>5138</td>\n",
       "      <td>5139</td>\n",
       "      <td>5143</td>\n",
       "    </tr>\n",
       "    <tr>\n",
       "      <th>10</th>\n",
       "      <td>Northern Territory</td>\n",
       "      <td>Australia</td>\n",
       "      <td>0</td>\n",
       "      <td>0</td>\n",
       "      <td>0</td>\n",
       "      <td>0</td>\n",
       "      <td>0</td>\n",
       "      <td>0</td>\n",
       "      <td>0</td>\n",
       "      <td>0</td>\n",
       "      <td>...</td>\n",
       "      <td>102</td>\n",
       "      <td>102</td>\n",
       "      <td>102</td>\n",
       "      <td>102</td>\n",
       "      <td>102</td>\n",
       "      <td>102</td>\n",
       "      <td>103</td>\n",
       "      <td>103</td>\n",
       "      <td>103</td>\n",
       "      <td>103</td>\n",
       "    </tr>\n",
       "    <tr>\n",
       "      <th>11</th>\n",
       "      <td>Queensland</td>\n",
       "      <td>Australia</td>\n",
       "      <td>0</td>\n",
       "      <td>0</td>\n",
       "      <td>0</td>\n",
       "      <td>0</td>\n",
       "      <td>0</td>\n",
       "      <td>0</td>\n",
       "      <td>0</td>\n",
       "      <td>1</td>\n",
       "      <td>...</td>\n",
       "      <td>1314</td>\n",
       "      <td>1315</td>\n",
       "      <td>1316</td>\n",
       "      <td>1317</td>\n",
       "      <td>1318</td>\n",
       "      <td>1320</td>\n",
       "      <td>1320</td>\n",
       "      <td>1320</td>\n",
       "      <td>1320</td>\n",
       "      <td>1320</td>\n",
       "    </tr>\n",
       "    <tr>\n",
       "      <th>12</th>\n",
       "      <td>South Australia</td>\n",
       "      <td>Australia</td>\n",
       "      <td>0</td>\n",
       "      <td>0</td>\n",
       "      <td>0</td>\n",
       "      <td>0</td>\n",
       "      <td>0</td>\n",
       "      <td>0</td>\n",
       "      <td>0</td>\n",
       "      <td>0</td>\n",
       "      <td>...</td>\n",
       "      <td>603</td>\n",
       "      <td>603</td>\n",
       "      <td>605</td>\n",
       "      <td>606</td>\n",
       "      <td>606</td>\n",
       "      <td>606</td>\n",
       "      <td>606</td>\n",
       "      <td>606</td>\n",
       "      <td>606</td>\n",
       "      <td>608</td>\n",
       "    </tr>\n",
       "  </tbody>\n",
       "</table>\n",
       "<p>5 rows × 394 columns</p>\n",
       "</div>"
      ],
      "text/plain": [
       "                  Province/State Country/Region  1/22/20  1/23/20  1/24/20  \\\n",
       "8   Australian Capital Territory      Australia        0        0        0   \n",
       "9                New South Wales      Australia        0        0        0   \n",
       "10            Northern Territory      Australia        0        0        0   \n",
       "11                    Queensland      Australia        0        0        0   \n",
       "12               South Australia      Australia        0        0        0   \n",
       "\n",
       "    1/25/20  1/26/20  1/27/20  1/28/20  1/29/20  ...  2/7/21  2/8/21  2/9/21  \\\n",
       "8         0        0        0        0        0  ...     118     118     118   \n",
       "9         0        3        4        4        4  ...    5123    5125    5129   \n",
       "10        0        0        0        0        0  ...     102     102     102   \n",
       "11        0        0        0        0        1  ...    1314    1315    1316   \n",
       "12        0        0        0        0        0  ...     603     603     605   \n",
       "\n",
       "    2/10/21  2/11/21  2/12/21  2/13/21  2/14/21  2/15/21  2/16/21  \n",
       "8       118      118      118      118      118      118      118  \n",
       "9      5132     5134     5136     5138     5138     5139     5143  \n",
       "10      102      102      102      103      103      103      103  \n",
       "11     1317     1318     1320     1320     1320     1320     1320  \n",
       "12      606      606      606      606      606      606      608  \n",
       "\n",
       "[5 rows x 394 columns]"
      ]
     },
     "execution_count": 33,
     "metadata": {},
     "output_type": "execute_result"
    }
   ],
   "source": [
    "df_aus.head()"
   ]
  },
  {
   "cell_type": "markdown",
   "metadata": {},
   "source": [
    "### Getting the number of covid cases in Australia as the sum of Covid cases in all provinces. "
   ]
  },
  {
   "cell_type": "code",
   "execution_count": 51,
   "metadata": {},
   "outputs": [],
   "source": [
    "ts_aus = df_aus.sum().values[2:]"
   ]
  },
  {
   "cell_type": "code",
   "execution_count": 52,
   "metadata": {},
   "outputs": [
    {
     "data": {
      "text/plain": [
       "[<matplotlib.lines.Line2D at 0xa98e2f0>]"
      ]
     },
     "execution_count": 52,
     "metadata": {},
     "output_type": "execute_result"
    },
    {
     "data": {
      "image/png": "[encoded data removed]",
      "text/plain": [
       "<Figure size 432x288 with 1 Axes>"
      ]
     },
     "metadata": {
      "needs_background": "light"
     },
     "output_type": "display_data"
    }
   ],
   "source": [
    "plt.plot(ts_aus)"
   ]
  },
  {
   "cell_type": "markdown",
   "metadata": {},
   "source": [
    "### United States data is subsetted. "
   ]
  },
  {
   "cell_type": "code",
   "execution_count": 35,
   "metadata": {},
   "outputs": [],
   "source": [
    "df_usa = df[df[\"Country/Region\"]==\"US\"]"
   ]
  },
  {
   "cell_type": "code",
   "execution_count": 36,
   "metadata": {
    "scrolled": true
   },
   "outputs": [
    {
     "data": {
      "text/html": [
       "<div>\n",
       "<style scoped>\n",
       "    .dataframe tbody tr th:only-of-type {\n",
       "        vertical-align: middle;\n",
       "    }\n",
       "\n",
       "    .dataframe tbody tr th {\n",
       "        vertical-align: top;\n",
       "    }\n",
       "\n",
       "    .dataframe thead th {\n",
       "        text-align: right;\n",
       "    }\n",
       "</style>\n",
       "<table border=\"1\" class=\"dataframe\">\n",
       "  <thead>\n",
       "    <tr style=\"text-align: right;\">\n",
       "      <th></th>\n",
       "      <th>Province/State</th>\n",
       "      <th>Country/Region</th>\n",
       "      <th>Lat</th>\n",
       "      <th>Long</th>\n",
       "      <th>1/22/20</th>\n",
       "      <th>1/23/20</th>\n",
       "      <th>1/24/20</th>\n",
       "      <th>1/25/20</th>\n",
       "      <th>1/26/20</th>\n",
       "      <th>1/27/20</th>\n",
       "      <th>...</th>\n",
       "      <th>2/7/21</th>\n",
       "      <th>2/8/21</th>\n",
       "      <th>2/9/21</th>\n",
       "      <th>2/10/21</th>\n",
       "      <th>2/11/21</th>\n",
       "      <th>2/12/21</th>\n",
       "      <th>2/13/21</th>\n",
       "      <th>2/14/21</th>\n",
       "      <th>2/15/21</th>\n",
       "      <th>2/16/21</th>\n",
       "    </tr>\n",
       "  </thead>\n",
       "  <tbody>\n",
       "    <tr>\n",
       "      <th>249</th>\n",
       "      <td>NaN</td>\n",
       "      <td>US</td>\n",
       "      <td>40.0</td>\n",
       "      <td>-100.0</td>\n",
       "      <td>1</td>\n",
       "      <td>1</td>\n",
       "      <td>2</td>\n",
       "      <td>2</td>\n",
       "      <td>5</td>\n",
       "      <td>5</td>\n",
       "      <td>...</td>\n",
       "      <td>27007368</td>\n",
       "      <td>27097095</td>\n",
       "      <td>27192455</td>\n",
       "      <td>27287159</td>\n",
       "      <td>27392512</td>\n",
       "      <td>27492023</td>\n",
       "      <td>27575344</td>\n",
       "      <td>27640282</td>\n",
       "      <td>27694226</td>\n",
       "      <td>27756624</td>\n",
       "    </tr>\n",
       "  </tbody>\n",
       "</table>\n",
       "<p>1 rows × 396 columns</p>\n",
       "</div>"
      ],
      "text/plain": [
       "    Province/State Country/Region   Lat   Long  1/22/20  1/23/20  1/24/20  \\\n",
       "249            NaN             US  40.0 -100.0        1        1        2   \n",
       "\n",
       "     1/25/20  1/26/20  1/27/20  ...    2/7/21    2/8/21    2/9/21   2/10/21  \\\n",
       "249        2        5        5  ...  27007368  27097095  27192455  27287159   \n",
       "\n",
       "      2/11/21   2/12/21   2/13/21   2/14/21   2/15/21   2/16/21  \n",
       "249  27392512  27492023  27575344  27640282  27694226  27756624  \n",
       "\n",
       "[1 rows x 396 columns]"
      ]
     },
     "execution_count": 36,
     "metadata": {},
     "output_type": "execute_result"
    }
   ],
   "source": [
    "df_usa.head()"
   ]
  },
  {
   "cell_type": "code",
   "execution_count": 37,
   "metadata": {},
   "outputs": [],
   "source": [
    "df_usa.drop(['Lat','Long'], axis=1, inplace=True)"
   ]
  },
  {
   "cell_type": "code",
   "execution_count": 38,
   "metadata": {},
   "outputs": [
    {
     "data": {
      "text/html": [
       "<div>\n",
       "<style scoped>\n",
       "    .dataframe tbody tr th:only-of-type {\n",
       "        vertical-align: middle;\n",
       "    }\n",
       "\n",
       "    .dataframe tbody tr th {\n",
       "        vertical-align: top;\n",
       "    }\n",
       "\n",
       "    .dataframe thead th {\n",
       "        text-align: right;\n",
       "    }\n",
       "</style>\n",
       "<table border=\"1\" class=\"dataframe\">\n",
       "  <thead>\n",
       "    <tr style=\"text-align: right;\">\n",
       "      <th></th>\n",
       "      <th>Province/State</th>\n",
       "      <th>Country/Region</th>\n",
       "      <th>1/22/20</th>\n",
       "      <th>1/23/20</th>\n",
       "      <th>1/24/20</th>\n",
       "      <th>1/25/20</th>\n",
       "      <th>1/26/20</th>\n",
       "      <th>1/27/20</th>\n",
       "      <th>1/28/20</th>\n",
       "      <th>1/29/20</th>\n",
       "      <th>...</th>\n",
       "      <th>2/7/21</th>\n",
       "      <th>2/8/21</th>\n",
       "      <th>2/9/21</th>\n",
       "      <th>2/10/21</th>\n",
       "      <th>2/11/21</th>\n",
       "      <th>2/12/21</th>\n",
       "      <th>2/13/21</th>\n",
       "      <th>2/14/21</th>\n",
       "      <th>2/15/21</th>\n",
       "      <th>2/16/21</th>\n",
       "    </tr>\n",
       "  </thead>\n",
       "  <tbody>\n",
       "    <tr>\n",
       "      <th>249</th>\n",
       "      <td>NaN</td>\n",
       "      <td>US</td>\n",
       "      <td>1</td>\n",
       "      <td>1</td>\n",
       "      <td>2</td>\n",
       "      <td>2</td>\n",
       "      <td>5</td>\n",
       "      <td>5</td>\n",
       "      <td>5</td>\n",
       "      <td>6</td>\n",
       "      <td>...</td>\n",
       "      <td>27007368</td>\n",
       "      <td>27097095</td>\n",
       "      <td>27192455</td>\n",
       "      <td>27287159</td>\n",
       "      <td>27392512</td>\n",
       "      <td>27492023</td>\n",
       "      <td>27575344</td>\n",
       "      <td>27640282</td>\n",
       "      <td>27694226</td>\n",
       "      <td>27756624</td>\n",
       "    </tr>\n",
       "  </tbody>\n",
       "</table>\n",
       "<p>1 rows × 394 columns</p>\n",
       "</div>"
      ],
      "text/plain": [
       "    Province/State Country/Region  1/22/20  1/23/20  1/24/20  1/25/20  \\\n",
       "249            NaN             US        1        1        2        2   \n",
       "\n",
       "     1/26/20  1/27/20  1/28/20  1/29/20  ...    2/7/21    2/8/21    2/9/21  \\\n",
       "249        5        5        5        6  ...  27007368  27097095  27192455   \n",
       "\n",
       "      2/10/21   2/11/21   2/12/21   2/13/21   2/14/21   2/15/21   2/16/21  \n",
       "249  27287159  27392512  27492023  27575344  27640282  27694226  27756624  \n",
       "\n",
       "[1 rows x 394 columns]"
      ]
     },
     "execution_count": 38,
     "metadata": {},
     "output_type": "execute_result"
    }
   ],
   "source": [
    "df_usa.head()"
   ]
  },
  {
   "cell_type": "code",
   "execution_count": 75,
   "metadata": {},
   "outputs": [],
   "source": [
    "df_us = df_usa.iloc[0][2:].values"
   ]
  },
  {
   "cell_type": "code",
   "execution_count": 76,
   "metadata": {},
   "outputs": [
    {
     "data": {
      "text/plain": [
       "array([1, 1, 2, 2, 5, 5, 5, 6, 6, 8, 8, 8, 11, 11, 11, 12, 12, 12, 12, 12,\n",
       "       13, 13, 14, 14, 14, 14, 14, 14, 14, 14, 16, 16, 16, 16, 16, 16, 17,\n",
       "       17, 25, 32, 55, 74, 107, 184, 237, 403, 519, 594, 782, 1147, 1586,\n",
       "       2219, 2978, 3212, 4679, 6512, 9169, 13663, 20030, 26025, 34898,\n",
       "       46136, 56755, 68837, 86693, 105383, 125013, 143912, 165987, 192301,\n",
       "       224544, 256779, 289066, 321482, 351359, 382740, 413507, 444699,\n",
       "       480640, 515055, 544185, 571440, 598370, 627151, 652591, 682626,\n",
       "       715656, 743588, 769684, 799512, 825429, 854288, 887858, 920185,\n",
       "       950580, 977081, 1000784, 1025361, 1051799, 1081019, 1115945,\n",
       "       1143295, 1167592, 1191677, 1216208, 1240767, 1268179, 1295017,\n",
       "       1320153, 1339020, 1358291, 1381238, 1401646, 1428464, 1453211,\n",
       "       1477370, 1495733, 1518123, 1539130, 1561827, 1587593, 1611249,\n",
       "       1632361, 1652428, 1671100, 1690750, 1709299, 1731621, 1756093,\n",
       "       1779726, 1798713, 1816148, 1837651, 1857495, 1879144, 1904544,\n",
       "       1925704, 1943620, 1961257, 1979639, 2000749, 2023881, 2048746,\n",
       "       2073954, 2092902, 2112721, 2136391, 2163449, 2191971, 2223531,\n",
       "       2255800, 2280946, 2313093, 2350156, 2386014, 2426329, 2472311,\n",
       "       2513651, 2554376, 2595655, 2642081, 2693890, 2750517, 2801874,\n",
       "       2847553, 2898322, 2941394, 3002036, 3062146, 3124633, 3192672,\n",
       "       3252687, 3311137, 3370026, 3438038, 3506145, 3581954, 3654203,\n",
       "       3716740, 3777211, 3839293, 3903780, 3974341, 4042769, 4116070,\n",
       "       4180969, 4235816, 4292554, 4359003, 4430816, 4498234, 4566931,\n",
       "       4623105, 4668652, 4714173, 4772945, 4827393, 4886727, 4945996,\n",
       "       5000107, 5045855, 5093475, 5141430, 5197413, 5248690, 5314012,\n",
       "       5360914, 5400103, 5436757, 5481755, 5529102, 5572890, 5621596,\n",
       "       5664641, 5698902, 5735502, 5775618, 5820908, 5866093, 5913046,\n",
       "       5955722, 5990118, 6025593, 6067260, 6108200, 6152285, 6202700,\n",
       "       6245682, 6276981, 6300449, 6327884, 6361638, 6397758, 6445407,\n",
       "       6486484, 6520750, 6555127, 6594554, 6633389, 6678579, 6727725,\n",
       "       6769847, 6808147, 6860061, 6899723, 6938731, 6985760, 7033944,\n",
       "       7078562, 7116078, 7149281, 7192498, 7231832, 7277418, 7332238,\n",
       "       7380797, 7416539, 7455962, 7501009, 7551949, 7610451, 7666716,\n",
       "       7721622, 7767500, 7809362, 7861469, 7921089, 7985864, 8054907,\n",
       "       8111563, 8160870, 8228585, 8290408, 8353581, 8429792, 8511514,\n",
       "       8594218, 8656238, 8723553, 8800136, 8879326, 8970125, 9069103,\n",
       "       9158771, 9263564, 9348673, 9475593, 9579978, 9709076, 9836826,\n",
       "       9964034, 10079115, 10199575, 10339806, 10486184, 10650570,\n",
       "       10830756, 10998298, 11134448, 11296951, 11460388, 11633255,\n",
       "       11824408, 12022364, 12201487, 12348137, 12522119, 12697162,\n",
       "       12879847, 12991459, 13199466, 13354901, 13494948, 13655181,\n",
       "       13842693, 14044565, 14266847, 14498883, 14713624, 14894418,\n",
       "       15089009, 15312876, 15534536, 15765165, 16003837, 16220250,\n",
       "       16407679, 16600830, 16810019, 17055759, 17294836, 17545869,\n",
       "       17737484, 17925033, 18123641, 18320881, 18549642, 18742803,\n",
       "       18839532, 19066376, 19222064, 19396237, 19595117, 19827133,\n",
       "       20061049, 20213393, 20513675, 20722231, 20906021, 21139547,\n",
       "       21393464, 21670202, 21962246, 22224220, 22437501, 22651464,\n",
       "       22877702, 23107573, 23342548, 23583255, 23784019, 23961423,\n",
       "       24104028, 24281012, 24463591, 24656646, 24846678, 25016816,\n",
       "       25147891, 25298986, 25445583, 25598061, 25766681, 25932794,\n",
       "       26074885, 26186781, 26321120, 26435557, 26557026, 26680214,\n",
       "       26813772, 26917787, 27007368, 27097095, 27192455, 27287159,\n",
       "       27392512, 27492023, 27575344, 27640282, 27694226, 27756624],\n",
       "      dtype=object)"
      ]
     },
     "execution_count": 76,
     "metadata": {},
     "output_type": "execute_result"
    }
   ],
   "source": [
    "df_us "
   ]
  },
  {
   "cell_type": "code",
   "execution_count": 81,
   "metadata": {},
   "outputs": [],
   "source": [
    "df_us = df_us.astype(float)"
   ]
  },
  {
   "cell_type": "markdown",
   "metadata": {},
   "source": [
    "### Time Series of United States is plotted. "
   ]
  },
  {
   "cell_type": "code",
   "execution_count": 77,
   "metadata": {},
   "outputs": [
    {
     "data": {
      "text/plain": [
       "[<matplotlib.lines.Line2D at 0xca752d0>]"
      ]
     },
     "execution_count": 77,
     "metadata": {},
     "output_type": "execute_result"
    },
    {
     "data": {
      "image/png": "[encoded data removed]",
      "text/plain": [
       "<Figure size 432x288 with 1 Axes>"
      ]
     },
     "metadata": {
      "needs_background": "light"
     },
     "output_type": "display_data"
    }
   ],
   "source": [
    "plt.close() \n",
    "plt.plot(df_us)"
   ]
  },
  {
   "cell_type": "markdown",
   "metadata": {},
   "source": [
    "### To Forecast the number of Covid cases for Australia and USA for the next months (March - December) , we use  the ARIMA Model for prediction. We first plot the ACF and PACF plots to determine the coefficients.   "
   ]
  },
  {
   "cell_type": "markdown",
   "metadata": {},
   "source": [
    "### Checking for stationarity"
   ]
  },
  {
   "cell_type": "markdown",
   "metadata": {},
   "source": [
    "#### Since the time series is stationary, we need not stationarize it through differencing. The ARIMA forecasting for a stationary time series is nothing but a linear (like a linear regression) equation. The predictors depend on the parameters (p,d,q) of the ARIMA model. \n"
   ]
  },
  {
   "cell_type": "code",
   "execution_count": 154,
   "metadata": {},
   "outputs": [],
   "source": [
    "from statsmodels.graphics.tsaplots import plot_acf\n",
    "from statsmodels.graphics.tsaplots import plot_pacf\n",
    "from statsmodels.tsa.stattools import acf, pacf"
   ]
  },
  {
   "cell_type": "code",
   "execution_count": 156,
   "metadata": {
    "scrolled": true
   },
   "outputs": [
    {
     "data": {
      "text/plain": [
       "array([1.0000000e+00, 1.0000000e+00, 2.0000000e+00, 2.0000000e+00,\n",
       "       5.0000000e+00, 5.0000000e+00, 5.0000000e+00, 6.0000000e+00,\n",
       "       6.0000000e+00, 8.0000000e+00, 8.0000000e+00, 8.0000000e+00,\n",
       "       1.1000000e+01, 1.1000000e+01, 1.1000000e+01, 1.2000000e+01,\n",
       "       1.2000000e+01, 1.2000000e+01, 1.2000000e+01, 1.2000000e+01,\n",
       "       1.3000000e+01, 1.3000000e+01, 1.4000000e+01, 1.4000000e+01,\n",
       "       1.4000000e+01, 1.4000000e+01, 1.4000000e+01, 1.4000000e+01,\n",
       "       1.4000000e+01, 1.4000000e+01, 1.6000000e+01, 1.6000000e+01,\n",
       "       1.6000000e+01, 1.6000000e+01, 1.6000000e+01, 1.6000000e+01,\n",
       "       1.7000000e+01, 1.7000000e+01, 2.5000000e+01, 3.2000000e+01,\n",
       "       5.5000000e+01, 7.4000000e+01, 1.0700000e+02, 1.8400000e+02,\n",
       "       2.3700000e+02, 4.0300000e+02, 5.1900000e+02, 5.9400000e+02,\n",
       "       7.8200000e+02, 1.1470000e+03, 1.5860000e+03, 2.2190000e+03,\n",
       "       2.9780000e+03, 3.2120000e+03, 4.6790000e+03, 6.5120000e+03,\n",
       "       9.1690000e+03, 1.3663000e+04, 2.0030000e+04, 2.6025000e+04,\n",
       "       3.4898000e+04, 4.6136000e+04, 5.6755000e+04, 6.8837000e+04,\n",
       "       8.6693000e+04, 1.0538300e+05, 1.2501300e+05, 1.4391200e+05,\n",
       "       1.6598700e+05, 1.9230100e+05, 2.2454400e+05, 2.5677900e+05,\n",
       "       2.8906600e+05, 3.2148200e+05, 3.5135900e+05, 3.8274000e+05,\n",
       "       4.1350700e+05, 4.4469900e+05, 4.8064000e+05, 5.1505500e+05,\n",
       "       5.4418500e+05, 5.7144000e+05, 5.9837000e+05, 6.2715100e+05,\n",
       "       6.5259100e+05, 6.8262600e+05, 7.1565600e+05, 7.4358800e+05,\n",
       "       7.6968400e+05, 7.9951200e+05, 8.2542900e+05, 8.5428800e+05,\n",
       "       8.8785800e+05, 9.2018500e+05, 9.5058000e+05, 9.7708100e+05,\n",
       "       1.0007840e+06, 1.0253610e+06, 1.0517990e+06, 1.0810190e+06,\n",
       "       1.1159450e+06, 1.1432950e+06, 1.1675920e+06, 1.1916770e+06,\n",
       "       1.2162080e+06, 1.2407670e+06, 1.2681790e+06, 1.2950170e+06,\n",
       "       1.3201530e+06, 1.3390200e+06, 1.3582910e+06, 1.3812380e+06,\n",
       "       1.4016460e+06, 1.4284640e+06, 1.4532110e+06, 1.4773700e+06,\n",
       "       1.4957330e+06, 1.5181230e+06, 1.5391300e+06, 1.5618270e+06,\n",
       "       1.5875930e+06, 1.6112490e+06, 1.6323610e+06, 1.6524280e+06,\n",
       "       1.6711000e+06, 1.6907500e+06, 1.7092990e+06, 1.7316210e+06,\n",
       "       1.7560930e+06, 1.7797260e+06, 1.7987130e+06, 1.8161480e+06,\n",
       "       1.8376510e+06, 1.8574950e+06, 1.8791440e+06, 1.9045440e+06,\n",
       "       1.9257040e+06, 1.9436200e+06, 1.9612570e+06, 1.9796390e+06,\n",
       "       2.0007490e+06, 2.0238810e+06, 2.0487460e+06, 2.0739540e+06,\n",
       "       2.0929020e+06, 2.1127210e+06, 2.1363910e+06, 2.1634490e+06,\n",
       "       2.1919710e+06, 2.2235310e+06, 2.2558000e+06, 2.2809460e+06,\n",
       "       2.3130930e+06, 2.3501560e+06, 2.3860140e+06, 2.4263290e+06,\n",
       "       2.4723110e+06, 2.5136510e+06, 2.5543760e+06, 2.5956550e+06,\n",
       "       2.6420810e+06, 2.6938900e+06, 2.7505170e+06, 2.8018740e+06,\n",
       "       2.8475530e+06, 2.8983220e+06, 2.9413940e+06, 3.0020360e+06,\n",
       "       3.0621460e+06, 3.1246330e+06, 3.1926720e+06, 3.2526870e+06,\n",
       "       3.3111370e+06, 3.3700260e+06, 3.4380380e+06, 3.5061450e+06,\n",
       "       3.5819540e+06, 3.6542030e+06, 3.7167400e+06, 3.7772110e+06,\n",
       "       3.8392930e+06, 3.9037800e+06, 3.9743410e+06, 4.0427690e+06,\n",
       "       4.1160700e+06, 4.1809690e+06, 4.2358160e+06, 4.2925540e+06,\n",
       "       4.3590030e+06, 4.4308160e+06, 4.4982340e+06, 4.5669310e+06,\n",
       "       4.6231050e+06, 4.6686520e+06, 4.7141730e+06, 4.7729450e+06,\n",
       "       4.8273930e+06, 4.8867270e+06, 4.9459960e+06, 5.0001070e+06,\n",
       "       5.0458550e+06, 5.0934750e+06, 5.1414300e+06, 5.1974130e+06,\n",
       "       5.2486900e+06, 5.3140120e+06, 5.3609140e+06, 5.4001030e+06,\n",
       "       5.4367570e+06, 5.4817550e+06, 5.5291020e+06, 5.5728900e+06,\n",
       "       5.6215960e+06, 5.6646410e+06, 5.6989020e+06, 5.7355020e+06,\n",
       "       5.7756180e+06, 5.8209080e+06, 5.8660930e+06, 5.9130460e+06,\n",
       "       5.9557220e+06, 5.9901180e+06, 6.0255930e+06, 6.0672600e+06,\n",
       "       6.1082000e+06, 6.1522850e+06, 6.2027000e+06, 6.2456820e+06,\n",
       "       6.2769810e+06, 6.3004490e+06, 6.3278840e+06, 6.3616380e+06,\n",
       "       6.3977580e+06, 6.4454070e+06, 6.4864840e+06, 6.5207500e+06,\n",
       "       6.5551270e+06, 6.5945540e+06, 6.6333890e+06, 6.6785790e+06,\n",
       "       6.7277250e+06, 6.7698470e+06, 6.8081470e+06, 6.8600610e+06,\n",
       "       6.8997230e+06, 6.9387310e+06, 6.9857600e+06, 7.0339440e+06,\n",
       "       7.0785620e+06, 7.1160780e+06, 7.1492810e+06, 7.1924980e+06,\n",
       "       7.2318320e+06, 7.2774180e+06, 7.3322380e+06, 7.3807970e+06,\n",
       "       7.4165390e+06, 7.4559620e+06, 7.5010090e+06, 7.5519490e+06,\n",
       "       7.6104510e+06, 7.6667160e+06, 7.7216220e+06, 7.7675000e+06,\n",
       "       7.8093620e+06, 7.8614690e+06, 7.9210890e+06, 7.9858640e+06,\n",
       "       8.0549070e+06, 8.1115630e+06, 8.1608700e+06, 8.2285850e+06,\n",
       "       8.2904080e+06, 8.3535810e+06, 8.4297920e+06, 8.5115140e+06,\n",
       "       8.5942180e+06, 8.6562380e+06, 8.7235530e+06, 8.8001360e+06,\n",
       "       8.8793260e+06, 8.9701250e+06, 9.0691030e+06, 9.1587710e+06,\n",
       "       9.2635640e+06, 9.3486730e+06, 9.4755930e+06, 9.5799780e+06,\n",
       "       9.7090760e+06, 9.8368260e+06, 9.9640340e+06, 1.0079115e+07,\n",
       "       1.0199575e+07, 1.0339806e+07, 1.0486184e+07, 1.0650570e+07,\n",
       "       1.0830756e+07, 1.0998298e+07, 1.1134448e+07, 1.1296951e+07,\n",
       "       1.1460388e+07, 1.1633255e+07, 1.1824408e+07, 1.2022364e+07,\n",
       "       1.2201487e+07, 1.2348137e+07, 1.2522119e+07, 1.2697162e+07,\n",
       "       1.2879847e+07, 1.2991459e+07, 1.3199466e+07, 1.3354901e+07,\n",
       "       1.3494948e+07, 1.3655181e+07, 1.3842693e+07, 1.4044565e+07,\n",
       "       1.4266847e+07, 1.4498883e+07, 1.4713624e+07, 1.4894418e+07,\n",
       "       1.5089009e+07, 1.5312876e+07, 1.5534536e+07, 1.5765165e+07,\n",
       "       1.6003837e+07, 1.6220250e+07, 1.6407679e+07, 1.6600830e+07,\n",
       "       1.6810019e+07, 1.7055759e+07, 1.7294836e+07, 1.7545869e+07,\n",
       "       1.7737484e+07, 1.7925033e+07, 1.8123641e+07, 1.8320881e+07,\n",
       "       1.8549642e+07, 1.8742803e+07, 1.8839532e+07, 1.9066376e+07,\n",
       "       1.9222064e+07, 1.9396237e+07, 1.9595117e+07, 1.9827133e+07,\n",
       "       2.0061049e+07, 2.0213393e+07, 2.0513675e+07, 2.0722231e+07,\n",
       "       2.0906021e+07, 2.1139547e+07, 2.1393464e+07, 2.1670202e+07,\n",
       "       2.1962246e+07, 2.2224220e+07, 2.2437501e+07, 2.2651464e+07,\n",
       "       2.2877702e+07, 2.3107573e+07, 2.3342548e+07, 2.3583255e+07,\n",
       "       2.3784019e+07, 2.3961423e+07, 2.4104028e+07, 2.4281012e+07,\n",
       "       2.4463591e+07, 2.4656646e+07, 2.4846678e+07, 2.5016816e+07,\n",
       "       2.5147891e+07, 2.5298986e+07, 2.5445583e+07, 2.5598061e+07,\n",
       "       2.5766681e+07, 2.5932794e+07, 2.6074885e+07, 2.6186781e+07,\n",
       "       2.6321120e+07, 2.6435557e+07, 2.6557026e+07, 2.6680214e+07,\n",
       "       2.6813772e+07, 2.6917787e+07, 2.7007368e+07, 2.7097095e+07,\n",
       "       2.7192455e+07, 2.7287159e+07, 2.7392512e+07, 2.7492023e+07,\n",
       "       2.7575344e+07, 2.7640282e+07, 2.7694226e+07, 2.7756624e+07])"
      ]
     },
     "execution_count": 156,
     "metadata": {},
     "output_type": "execute_result"
    }
   ],
   "source": [
    "ts_log = (df_us)\n",
    "ts_log\n"
   ]
  },
  {
   "cell_type": "code",
   "execution_count": 157,
   "metadata": {
    "scrolled": false
   },
   "outputs": [
    {
     "data": {
      "text/plain": [
       "[<matplotlib.lines.Line2D at 0xad63c50>]"
      ]
     },
     "execution_count": 157,
     "metadata": {},
     "output_type": "execute_result"
    },
    {
     "data": {
      "image/png": "[encoded data removed]",
      "text/plain": [
       "<Figure size 432x288 with 1 Axes>"
      ]
     },
     "metadata": {
      "needs_background": "light"
     },
     "output_type": "display_data"
    }
   ],
   "source": [
    "ts_log_diff = np.diff(ts_log)\n",
    "plt.plot(ts_log_diff)"
   ]
  },
  {
   "cell_type": "markdown",
   "metadata": {},
   "source": [
    "## Pacf and Acf Plots "
   ]
  },
  {
   "cell_type": "code",
   "execution_count": 158,
   "metadata": {
    "scrolled": false
   },
   "outputs": [
    {
     "data": {
      "image/png": "[encoded data removed]",
      "text/plain": [
       "<Figure size 432x288 with 1 Axes>"
      ]
     },
     "execution_count": 158,
     "metadata": {},
     "output_type": "execute_result"
    },
    {
     "data": {
      "image/png": "[encoded data removed]",
      "text/plain": [
       "<Figure size 432x288 with 1 Axes>"
      ]
     },
     "metadata": {
      "needs_background": "light"
     },
     "output_type": "display_data"
    }
   ],
   "source": [
    "plot_acf(ts_log_diff,lags=10)"
   ]
  },
  {
   "cell_type": "code",
   "execution_count": 159,
   "metadata": {},
   "outputs": [
    {
     "data": {
      "image/png": "[encoded data removed]",
      "text/plain": [
       "<Figure size 432x288 with 1 Axes>"
      ]
     },
     "execution_count": 159,
     "metadata": {},
     "output_type": "execute_result"
    },
    {
     "data": {
      "image/png": "[encoded data removed]",
      "text/plain": [
       "<Figure size 432x288 with 1 Axes>"
      ]
     },
     "metadata": {
      "needs_background": "light"
     },
     "output_type": "display_data"
    }
   ],
   "source": [
    "plot_pacf(ts_log_diff,lags=10)\n"
   ]
  },
  {
   "cell_type": "markdown",
   "metadata": {},
   "source": [
    " In this plot, the two dotted lines on either sides of 0 are the confidence interevals. These can be used to determine the ‘p’ and ‘q’ values as:\n",
    "\n",
    "p – The lag value where the PACF chart crosses the upper confidence interval for the first time. If you notice closely, in this case p=2.\n",
    "q – The lag value where the ACF chart crosses the upper confidence interval for the first time. If you notice closely, in this case q=2."
   ]
  },
  {
   "cell_type": "markdown",
   "metadata": {},
   "source": [
    "### The ARIMA model is applied"
   ]
  },
  {
   "cell_type": "code",
   "execution_count": 160,
   "metadata": {},
   "outputs": [
    {
     "name": "stdout",
     "output_type": "stream",
     "text": [
      "                              ARMA Model Results                              \n",
      "==============================================================================\n",
      "Dep. Variable:                      y   No. Observations:                  391\n",
      "Model:                     ARMA(2, 3)   Log Likelihood               -4354.044\n",
      "Method:                       css-mle   S.D. of innovations          16526.642\n",
      "Date:                Tue, 23 Feb 2021   AIC                           8722.089\n",
      "Time:                        15:59:51   BIC                           8749.870\n",
      "Sample:                             0   HQIC                          8733.100\n",
      "                                                                              \n",
      "==============================================================================\n",
      "                 coef    std err          z      P>|z|      [0.025      0.975]\n",
      "------------------------------------------------------------------------------\n",
      "const       7.099e+04   4.65e+04      1.525      0.127   -2.02e+04    1.62e+05\n",
      "ar.L1.y        0.9083      2.299      0.395      0.693      -3.598       5.414\n",
      "ar.L2.y        0.0856      2.286      0.037      0.970      -4.395       4.566\n",
      "ma.L1.y       -0.4458      2.299     -0.194      0.846      -4.951       4.059\n",
      "ma.L2.y       -0.0996      1.225     -0.081      0.935      -2.501       2.301\n",
      "ma.L3.y       -0.0064      0.135     -0.048      0.962      -0.271       0.258\n",
      "                                    Roots                                    \n",
      "=============================================================================\n",
      "                  Real          Imaginary           Modulus         Frequency\n",
      "-----------------------------------------------------------------------------\n",
      "AR.1            1.0057           +0.0000j            1.0057            0.0000\n",
      "AR.2          -11.6209           +0.0000j           11.6209            0.5000\n",
      "MA.1            1.6067           -0.0000j            1.6067           -0.0000\n",
      "MA.2           -8.5724           -4.8589j            9.8537           -0.4179\n",
      "MA.3           -8.5724           +4.8589j            9.8537            0.4179\n",
      "-----------------------------------------------------------------------------\n"
     ]
    }
   ],
   "source": [
    "from statsmodels.tsa.arima_model import ARIMA\n",
    "mod = ARIMA(ts_log_diff,order=(2,0,3))\n",
    "results = mod.fit() \n",
    "print(results.summary())"
   ]
  },
  {
   "cell_type": "code",
   "execution_count": 94,
   "metadata": {},
   "outputs": [
    {
     "data": {
      "text/plain": [
       "<matplotlib.axes._subplots.AxesSubplot at 0xcbde490>"
      ]
     },
     "execution_count": 94,
     "metadata": {},
     "output_type": "execute_result"
    },
    {
     "data": {
      "image/png": "[encoded data removed]",
      "text/plain": [
       "<Figure size 432x288 with 1 Axes>"
      ]
     },
     "metadata": {
      "needs_background": "light"
     },
     "output_type": "display_data"
    }
   ],
   "source": [
    "residuals = pd.DataFrame(results.resid)\n",
    "residuals.plot()"
   ]
  },
  {
   "cell_type": "markdown",
   "metadata": {},
   "source": [
    "It is ensured that the residuals give a normal curve when plotted."
   ]
  },
  {
   "cell_type": "code",
   "execution_count": 95,
   "metadata": {},
   "outputs": [
    {
     "data": {
      "text/plain": [
       "<matplotlib.axes._subplots.AxesSubplot at 0x60c2d70>"
      ]
     },
     "execution_count": 95,
     "metadata": {},
     "output_type": "execute_result"
    },
    {
     "data": {
      "image/png": "[encoded data removed]",
      "text/plain": [
       "<Figure size 432x288 with 1 Axes>"
      ]
     },
     "metadata": {
      "needs_background": "light"
     },
     "output_type": "display_data"
    }
   ],
   "source": [
    "residuals.plot(kind='kde')\n"
   ]
  },
  {
   "cell_type": "code",
   "execution_count": 96,
   "metadata": {},
   "outputs": [
    {
     "data": {
      "text/html": [
       "<div>\n",
       "<style scoped>\n",
       "    .dataframe tbody tr th:only-of-type {\n",
       "        vertical-align: middle;\n",
       "    }\n",
       "\n",
       "    .dataframe tbody tr th {\n",
       "        vertical-align: top;\n",
       "    }\n",
       "\n",
       "    .dataframe thead th {\n",
       "        text-align: right;\n",
       "    }\n",
       "</style>\n",
       "<table border=\"1\" class=\"dataframe\">\n",
       "  <thead>\n",
       "    <tr style=\"text-align: right;\">\n",
       "      <th></th>\n",
       "      <th>0</th>\n",
       "    </tr>\n",
       "  </thead>\n",
       "  <tbody>\n",
       "    <tr>\n",
       "      <th>count</th>\n",
       "      <td>391.000000</td>\n",
       "    </tr>\n",
       "    <tr>\n",
       "      <th>mean</th>\n",
       "      <td>226.905291</td>\n",
       "    </tr>\n",
       "    <tr>\n",
       "      <th>std</th>\n",
       "      <td>16908.220934</td>\n",
       "    </tr>\n",
       "    <tr>\n",
       "      <th>min</th>\n",
       "      <td>-104380.595279</td>\n",
       "    </tr>\n",
       "    <tr>\n",
       "      <th>25%</th>\n",
       "      <td>-3514.786995</td>\n",
       "    </tr>\n",
       "    <tr>\n",
       "      <th>50%</th>\n",
       "      <td>-544.827604</td>\n",
       "    </tr>\n",
       "    <tr>\n",
       "      <th>75%</th>\n",
       "      <td>4842.211045</td>\n",
       "    </tr>\n",
       "    <tr>\n",
       "      <th>max</th>\n",
       "      <td>116839.452978</td>\n",
       "    </tr>\n",
       "  </tbody>\n",
       "</table>\n",
       "</div>"
      ],
      "text/plain": [
       "                   0\n",
       "count     391.000000\n",
       "mean      226.905291\n",
       "std     16908.220934\n",
       "min   -104380.595279\n",
       "25%     -3514.786995\n",
       "50%      -544.827604\n",
       "75%      4842.211045\n",
       "max    116839.452978"
      ]
     },
     "execution_count": 96,
     "metadata": {},
     "output_type": "execute_result"
    }
   ],
   "source": [
    "residuals.describe()"
   ]
  },
  {
   "cell_type": "code",
   "execution_count": 97,
   "metadata": {},
   "outputs": [
    {
     "data": {
      "image/png": "[encoded data removed]",
      "text/plain": [
       "<Figure size 432x288 with 1 Axes>"
      ]
     },
     "execution_count": 97,
     "metadata": {},
     "output_type": "execute_result"
    },
    {
     "data": {
      "image/png": "[encoded data removed]",
      "text/plain": [
       "<Figure size 432x288 with 1 Axes>"
      ]
     },
     "metadata": {
      "needs_background": "light"
     },
     "output_type": "display_data"
    }
   ],
   "source": [
    "plot_pacf(residuals)"
   ]
  },
  {
   "cell_type": "markdown",
   "metadata": {},
   "source": [
    "## Finally the model is forecasted for the next months. "
   ]
  },
  {
   "cell_type": "code",
   "execution_count": 161,
   "metadata": {},
   "outputs": [],
   "source": [
    "n=9\n",
    "forecast,err,ci = results.forecast(steps=n,alpha=0.05)\n",
    "df_forecast = pd.DataFrame({'forecast':forecast},index=pd.date_range(start='20/1/2020', periods=n, freq='MS'))"
   ]
  },
  {
   "cell_type": "code",
   "execution_count": 162,
   "metadata": {},
   "outputs": [
    {
     "data": {
      "text/plain": [
       "array([[ 35280.71218645, 100063.95679372],\n",
       "       [ 32426.55903607, 103803.54322473],\n",
       "       [ 30104.74703324, 106175.49416056],\n",
       "       [ 27952.53410716, 108358.20302569],\n",
       "       [ 25933.07361615, 110409.65406819],\n",
       "       [ 24028.55195115, 112345.84307026],\n",
       "       [ 22224.26315644, 114181.63350873],\n",
       "       [ 20508.51128634, 115928.70886218],\n",
       "       [ 18871.76088852, 117596.60673754]])"
      ]
     },
     "execution_count": 162,
     "metadata": {},
     "output_type": "execute_result"
    }
   ],
   "source": [
    "ci"
   ]
  },
  {
   "cell_type": "code",
   "execution_count": 178,
   "metadata": {},
   "outputs": [
    {
     "ename": "AttributeError",
     "evalue": "'numpy.ndarray' object has no attribute 'plot'",
     "output_type": "error",
     "traceback": [
      "\u001b[1;31m---------------------------------------------------------------------------\u001b[0m",
      "\u001b[1;31mAttributeError\u001b[0m                            Traceback (most recent call last)",
      "\u001b[1;32m<ipython-input-178-9131892d62af>\u001b[0m in \u001b[0;36m<module>\u001b[1;34m\u001b[0m\n\u001b[1;32m----> 1\u001b[1;33m \u001b[0mts_log_diff\u001b[0m\u001b[1;33m.\u001b[0m\u001b[0mplot\u001b[0m\u001b[1;33m(\u001b[0m\u001b[0mlabel\u001b[0m\u001b[1;33m=\u001b[0m\u001b[1;34m'observed'\u001b[0m\u001b[1;33m,\u001b[0m \u001b[0mfigsize\u001b[0m\u001b[1;33m=\u001b[0m\u001b[1;33m(\u001b[0m\u001b[1;36m20\u001b[0m\u001b[1;33m,\u001b[0m \u001b[1;36m15\u001b[0m\u001b[1;33m)\u001b[0m\u001b[1;33m)\u001b[0m\u001b[1;33m\u001b[0m\u001b[1;33m\u001b[0m\u001b[0m\n\u001b[0m\u001b[0;32m      2\u001b[0m \u001b[0mdf_forecast\u001b[0m\u001b[1;33m.\u001b[0m\u001b[0mplot\u001b[0m\u001b[1;33m(\u001b[0m\u001b[0max\u001b[0m\u001b[1;33m=\u001b[0m\u001b[0max\u001b[0m\u001b[1;33m,\u001b[0m\u001b[0mlabel\u001b[0m\u001b[1;33m=\u001b[0m\u001b[1;34m'Forecast'\u001b[0m\u001b[1;33m,\u001b[0m\u001b[0mcolor\u001b[0m\u001b[1;33m=\u001b[0m\u001b[1;34m'r'\u001b[0m\u001b[1;33m)\u001b[0m\u001b[1;33m\u001b[0m\u001b[1;33m\u001b[0m\u001b[0m\n\u001b[0;32m      3\u001b[0m ax.fill_between(df_forecast.index,\n\u001b[0;32m      4\u001b[0m                 \u001b[0mci\u001b[0m\u001b[1;33m[\u001b[0m\u001b[1;33m:\u001b[0m\u001b[1;33m,\u001b[0m\u001b[1;36m0\u001b[0m\u001b[1;33m]\u001b[0m\u001b[1;33m,\u001b[0m\u001b[1;33m\u001b[0m\u001b[1;33m\u001b[0m\u001b[0m\n\u001b[0;32m      5\u001b[0m                 ci[:,1], color='b', alpha=.25)\n",
      "\u001b[1;31mAttributeError\u001b[0m: 'numpy.ndarray' object has no attribute 'plot'"
     ]
    }
   ],
   "source": [
    "\n",
    "ts_log_diff.plot(label='observed', figsize=(20, 15))\n",
    "df_forecast.plot(ax=ax,label='Forecast',color='r')\n",
    "ax.fill_between(df_forecast.index,\n",
    "                ci[:,0],\n",
    "                ci[:,1], color='b', alpha=.25)\n",
    "ax.set_xlabel('Date')\n",
    "ax.set_ylabel('Covid-19 Cases')\n",
    "\n",
    "plt.legend()\n",
    "plt.show()\n"
   ]
  }
 ],
 "metadata": {
  "kernelspec": {
   "display_name": "Python 3",
   "language": "python",
   "name": "python3"
  },
  "language_info": {
   "codemirror_mode": {
    "name": "ipython",
    "version": 3
   },
   "file_extension": ".py",
   "mimetype": "text/x-python",
   "name": "python",
   "nbconvert_exporter": "python",
   "pygments_lexer": "ipython3",
   "version": "3.7.6"
  }
 },
 "nbformat": 4,
 "nbformat_minor": 4
}
